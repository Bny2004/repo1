{
 "cells": [
  {
   "cell_type": "code",
   "execution_count": 2,
   "metadata": {},
   "outputs": [],
   "source": [
    "import cv2 as cv"
   ]
  },
  {
   "cell_type": "code",
   "execution_count": 6,
   "metadata": {},
   "outputs": [
    {
     "data": {
      "text/plain": [
       "-1"
      ]
     },
     "execution_count": 6,
     "metadata": {},
     "output_type": "execute_result"
    }
   ],
   "source": [
    "img = cv.imread('images/tree.jpg')\n",
    "\n",
    "cv.imshow('tree',img)\n",
    "\n",
    "cv.waitKey(0)"
   ]
  },
  {
   "cell_type": "code",
   "execution_count": 4,
   "metadata": {},
   "outputs": [],
   "source": [
    "capture = cv.VideoCapture(0)\n",
    "\n",
    "while True:\n",
    "    isTrue, frame = capture.read()\n",
    "    cv.imshow('video', frame)\n",
    "\n",
    "    if cv.waitKey(20) & 0xFF==ord('d'):\n",
    "        break\n",
    "\n",
    "capture.release()\n",
    "cv.destroyAllWindows()"
   ]
  },
  {
   "cell_type": "code",
   "execution_count": 3,
   "metadata": {},
   "outputs": [],
   "source": [
    "img = cv.imread('images/download.jfif')\n",
    "\n",
    "def rescaleFrame(frame, scale=0.75):\n",
    "    width =int(frame.shape[1] * scale)\n",
    "    height =int(frame.shape[0] * scale)\n",
    "    dimensions = (width,height)\n",
    "\n",
    "    return cv.resize(frame,dimensions,interpolation=cv.INTER_AREA)\n",
    "\n",
    "resized_img = rescaleFrame(img, scale=4)\n",
    "\n",
    "cv.imshow('taj mahal',img)\n",
    "cv.imshow('resized taj mahal',resized_img)\n",
    "\n",
    "cv.waitKey(0)"
   ]
  },
  {
   "cell_type": "code",
   "execution_count": 9,
   "metadata": {},
   "outputs": [],
   "source": [
    "\n",
    "def rescaleFrame(frame, scale=0.75):\n",
    "    width =int(frame.shape[1] * scale)\n",
    "    height =int(frame.shape[0] * scale)\n",
    "    dimensions = (width,height)\n",
    "\n",
    "    return cv.resize(frame,dimensions,interpolation=cv.INTER_AREA)\n",
    "capture = cv.VideoCapture(0)\n",
    "\n",
    "while True:\n",
    "    isTrue, frame = capture.read()\n",
    "\n",
    "    frame_resized = rescaleFrame(frame , scale=.2)\n",
    "\n",
    "\n",
    "    cv.imshow('video', frame)\n",
    "    cv.imshow('video resized', frame_resized)\n",
    "\n",
    "\n",
    "    if cv.waitKey(20) & 0xFF==ord('d'):\n",
    "        break\n",
    "\n",
    "capture.release()\n",
    "cv.destroyAllWindows()"
   ]
  },
  {
   "cell_type": "code",
   "execution_count": 7,
   "metadata": {},
   "outputs": [
    {
     "ename": "error",
     "evalue": "OpenCV(4.7.0) D:\\a\\opencv-python\\opencv-python\\opencv\\modules\\highgui\\src\\window.cpp:971: error: (-215:Assertion failed) size.width>0 && size.height>0 in function 'cv::imshow'\n",
     "output_type": "error",
     "traceback": [
      "\u001b[1;31m---------------------------------------------------------------------------\u001b[0m",
      "\u001b[1;31merror\u001b[0m                                     Traceback (most recent call last)",
      "Cell \u001b[1;32mIn[7], line 14\u001b[0m\n\u001b[0;32m     12\u001b[0m cv\u001b[39m.\u001b[39mimshow(\u001b[39m'\u001b[39m\u001b[39mvideo\u001b[39m\u001b[39m'\u001b[39m, frame)\n\u001b[0;32m     13\u001b[0m \u001b[39m#cv.imshow('video resized', frame_resized)\u001b[39;00m\n\u001b[1;32m---> 14\u001b[0m cv\u001b[39m.\u001b[39;49mimshow(\u001b[39m'\u001b[39;49m\u001b[39mrereso\u001b[39;49m\u001b[39m'\u001b[39;49m, frame_rezo)\n\u001b[0;32m     17\u001b[0m \u001b[39mif\u001b[39;00m cv\u001b[39m.\u001b[39mwaitKey(\u001b[39m20\u001b[39m) \u001b[39m&\u001b[39m \u001b[39m0xFF\u001b[39m\u001b[39m==\u001b[39m\u001b[39mord\u001b[39m(\u001b[39m'\u001b[39m\u001b[39md\u001b[39m\u001b[39m'\u001b[39m):\n\u001b[0;32m     18\u001b[0m     \u001b[39mbreak\u001b[39;00m\n",
      "\u001b[1;31merror\u001b[0m: OpenCV(4.7.0) D:\\a\\opencv-python\\opencv-python\\opencv\\modules\\highgui\\src\\window.cpp:971: error: (-215:Assertion failed) size.width>0 && size.height>0 in function 'cv::imshow'\n"
     ]
    }
   ],
   "source": [
    "capture = cv.VideoCapture(0)\n",
    "\n",
    "def  changeRes(width,height):\n",
    "    capture.set(3,width)\n",
    "    capture.set(4,height)\n",
    "\n",
    "while True:\n",
    "    isTrue, frame = capture.read()\n",
    "    frame_rezo = changeRes(2,2)\n",
    "\n",
    "\n",
    "    cv.imshow('video', frame)\n",
    "    #cv.imshow('video resized', frame_resized)\n",
    "    cv.imshow('rereso', frame_rezo)\n",
    "\n",
    "\n",
    "    if cv.waitKey(20) & 0xFF==ord('d'):\n",
    "        break\n",
    "\n",
    "capture.release()\n",
    "cv.destroyAllWindows()"
   ]
  }
 ],
 "metadata": {
  "kernelspec": {
   "display_name": "base",
   "language": "python",
   "name": "python3"
  },
  "language_info": {
   "codemirror_mode": {
    "name": "ipython",
    "version": 3
   },
   "file_extension": ".py",
   "mimetype": "text/x-python",
   "name": "python",
   "nbconvert_exporter": "python",
   "pygments_lexer": "ipython3",
   "version": "3.11.2"
  },
  "orig_nbformat": 4
 },
 "nbformat": 4,
 "nbformat_minor": 2
}
